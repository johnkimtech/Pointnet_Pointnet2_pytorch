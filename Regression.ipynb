{
 "cells": [
  {
   "cell_type": "code",
   "execution_count": 7,
   "metadata": {},
   "outputs": [
    {
     "name": "stdout",
     "output_type": "stream",
     "text": [
      "The autoreload extension is already loaded. To reload it, use:\n",
      "  %reload_ext autoreload\n"
     ]
    }
   ],
   "source": [
    "%load_ext autoreload\n",
    "%autoreload 2"
   ]
  },
  {
   "cell_type": "code",
   "execution_count": 8,
   "metadata": {},
   "outputs": [
    {
     "name": "stdout",
     "output_type": "stream",
     "text": [
      "Successfully loaded pretrained backbone model\n"
     ]
    }
   ],
   "source": [
    "from models.pointnet2_regression import get_model\n",
    "\n",
    "\n",
    "regressor = get_model(\n",
    "    backbone_model_name='pointnet2_cls_ssg',\n",
    "    backbone_pretrained_path='log/classification/pointnet2_cls_ssg_normal_42c/checkpoints/best_model.pth',\n",
    "    backbone_frozen=True,\n",
    "    backbone_outdims=1024,\n",
    "    backbone_cutoff=-6,\n",
    "    num_class=42,\n",
    "    normal_channel=True,\n",
    "    n_out_dims=7\n",
    ")\n"
   ]
  },
  {
   "cell_type": "code",
   "execution_count": null,
   "metadata": {},
   "outputs": [],
   "source": []
  }
 ],
 "metadata": {
  "kernelspec": {
   "display_name": "torch",
   "language": "python",
   "name": "python3"
  },
  "language_info": {
   "codemirror_mode": {
    "name": "ipython",
    "version": 3
   },
   "file_extension": ".py",
   "mimetype": "text/x-python",
   "name": "python",
   "nbconvert_exporter": "python",
   "pygments_lexer": "ipython3",
   "version": "3.10.13"
  },
  "orig_nbformat": 4
 },
 "nbformat": 4,
 "nbformat_minor": 2
}
