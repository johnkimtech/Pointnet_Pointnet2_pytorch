{
 "cells": [
  {
   "cell_type": "code",
   "execution_count": 1,
   "metadata": {},
   "outputs": [],
   "source": [
    "%load_ext autoreload\n",
    "%autoreload 2"
   ]
  },
  {
   "cell_type": "code",
   "execution_count": 2,
   "metadata": {},
   "outputs": [
    {
     "name": "stdout",
     "output_type": "stream",
     "text": [
      "Successfully loaded pretrained backbone model\n"
     ]
    }
   ],
   "source": [
    "from models.pointnet2_regression import get_model\n",
    "\n",
    "\n",
    "regressor = get_model(\n",
    "    backbone_model_name='pointnet2_cls_ssg',\n",
    "    backbone_pretrained_path='log/classification/pointnet2_cls_ssg_normal_42c/checkpoints/best_model.pth',\n",
    "    backbone_frozen=True,\n",
    "    backbone_outdims=1024,\n",
    "    num_class=42,\n",
    "    normal_channel=True,\n",
    "    n_out_dims=7\n",
    ")\n"
   ]
  },
  {
   "cell_type": "code",
   "execution_count": 3,
   "metadata": {},
   "outputs": [
    {
     "name": "stdout",
     "output_type": "stream",
     "text": [
      "==========================================================================================\n",
      "Layer (type:depth-idx)                   Input Shape               Output Shape\n",
      "==========================================================================================\n",
      "├─get_model: 1-1                         [-1, 6, 5000]             [-1, 1024]\n",
      "|    └─PointNetSetAbstraction: 2-1       [-1, 3, 5000]             [-1, 3, 512]\n",
      "|    └─PointNetSetAbstraction: 2-2       [-1, 3, 512]              [-1, 3, 128]\n",
      "|    └─PointNetSetAbstraction: 2-3       [-1, 3, 128]              [-1, 3, 1]\n",
      "├─Sequential: 1-2                        [-1, 1024]                [-1, 1024]\n",
      "|    └─Linear: 2-4                       [-1, 1024]                [-1, 4096]\n",
      "|    └─ReLU: 2-5                         [-1, 4096]                [-1, 4096]\n",
      "|    └─Linear: 2-6                       [-1, 4096]                [-1, 1024]\n",
      "├─Sequential: 1-3                        [-1, 1024]                [-1, 7]\n",
      "|    └─Linear: 2-7                       [-1, 1024]                [-1, 7]\n",
      "==========================================================================================\n",
      "Total params: 8,400,903\n",
      "Trainable params: 8,400,903\n",
      "Non-trainable params: 0\n",
      "Total mult-adds (M): 859.07\n",
      "==========================================================================================\n",
      "Input size (MB): 0.11\n",
      "Forward/backward pass size (MB): 131.54\n",
      "Params size (MB): 32.05\n",
      "Estimated Total Size (MB): 163.70\n",
      "==========================================================================================\n"
     ]
    }
   ],
   "source": [
    "from torchsummary import summary\n",
    "\n",
    "summary(regressor, (5000, 6), col_names=['input_size', 'output_size'])\n",
    "None"
   ]
  },
  {
   "cell_type": "code",
   "execution_count": 13,
   "metadata": {},
   "outputs": [],
   "source": [
    "import torch\n",
    "\n",
    "X = torch.randn(3, 5000, 6).cuda()\n",
    "y = regressor.backbone(X.transpose(1, 2), encode_only=True)"
   ]
  }
 ],
 "metadata": {
  "kernelspec": {
   "display_name": "torch",
   "language": "python",
   "name": "python3"
  },
  "language_info": {
   "codemirror_mode": {
    "name": "ipython",
    "version": 3
   },
   "file_extension": ".py",
   "mimetype": "text/x-python",
   "name": "python",
   "nbconvert_exporter": "python",
   "pygments_lexer": "ipython3",
   "version": "3.10.13"
  },
  "orig_nbformat": 4
 },
 "nbformat": 4,
 "nbformat_minor": 2
}
